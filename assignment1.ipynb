{
 "cells": [
  {
   "cell_type": "code",
   "execution_count": 1,
   "id": "301bf995",
   "metadata": {},
   "outputs": [],
   "source": [
    "import gzip\n",
    "from collections import defaultdict\n",
    "import math\n",
    "import scipy.optimize\n",
    "from sklearn import svm\n",
    "import numpy\n",
    "import string\n",
    "import random\n",
    "import string\n",
    "import sys\n",
    "from sklearn import linear_model\n",
    "from sklearn import metrics"
   ]
  },
  {
   "cell_type": "code",
   "execution_count": 2,
   "id": "31cab31f",
   "metadata": {},
   "outputs": [],
   "source": [
    "import warnings\n",
    "warnings.filterwarnings(\"ignore\")"
   ]
  },
  {
   "cell_type": "code",
   "execution_count": 3,
   "id": "3e25a33f",
   "metadata": {},
   "outputs": [],
   "source": [
    "def readGz(path):\n",
    "    for l in gzip.open(path, 'rt'):\n",
    "        yield eval(l)"
   ]
  },
  {
   "cell_type": "code",
   "execution_count": 4,
   "id": "f88efc3b",
   "metadata": {},
   "outputs": [],
   "source": [
    "def readCSV(path):\n",
    "    f = gzip.open(path, 'rt')\n",
    "    f.readline()\n",
    "    for l in f:\n",
    "        u,b,r = l.strip().split(',')\n",
    "        r = int(r)\n",
    "        yield u,b,r"
   ]
  },
  {
   "cell_type": "code",
   "execution_count": 5,
   "id": "8a92a29b",
   "metadata": {},
   "outputs": [],
   "source": [
    "#READING"
   ]
  },
  {
   "cell_type": "code",
   "execution_count": 6,
   "id": "3000bdde",
   "metadata": {},
   "outputs": [],
   "source": [
    "#baseline approach: creates the set of popular books, with a threshold determined from hw3\n",
    "def popularSet():\n",
    "    # Copied from baseline code\n",
    "    bookCount = defaultdict(int)  #all books\n",
    "    totalRead = 0                 #how many books were read\n",
    "\n",
    "    for user,book,_ in readCSV(\"train_Interactions.csv.gz\"):\n",
    "        bookCount[book] += 1\n",
    "        totalRead += 1\n",
    "\n",
    "    #list of (reads per book, book id), sorted by most popular\n",
    "    mostPopular = [(bookCount[x], x) for x in bookCount] \n",
    "    mostPopular.sort()\n",
    "    mostPopular.reverse()\n",
    "\n",
    "    #return the set of books such that half of all ratings were for these books\n",
    "    return1 = set()\n",
    "    count = 0\n",
    "    for ic, i in mostPopular:\n",
    "        count += ic\n",
    "        return1.add(i)\n",
    "        if count > totalRead / 1.39: break #threshold of 1.39 determined from hw3 \n",
    "            \n",
    "    return return1"
   ]
  },
  {
   "cell_type": "code",
   "execution_count": 7,
   "id": "e0e2eb34",
   "metadata": {},
   "outputs": [],
   "source": [
    "def Jaccard(s1, s2):\n",
    "    intersection_size = len(s1.intersection(s2))\n",
    "    union_size = len(s1.union(s2))\n",
    "    if union_size == 0:\n",
    "        return 0\n",
    "    return intersection_size / union_size"
   ]
  },
  {
   "cell_type": "code",
   "execution_count": 8,
   "id": "47f05736",
   "metadata": {},
   "outputs": [],
   "source": [
    "#create the ratingsPerUser and ratingsPerItem\n",
    "ratingsPerUser = defaultdict(list)\n",
    "ratingsPerItem = defaultdict(list)\n",
    "for u,b,r in readCSV(\"train_Interactions.csv.gz\"):\n",
    "    ratingsPerUser[u].append((b,r))\n",
    "    ratingsPerItem[b].append((u,r))\n",
    "\n",
    "    \n",
    "#create the popular set:\n",
    "popular = popularSet()"
   ]
  },
  {
   "cell_type": "code",
   "execution_count": 9,
   "id": "800902c6",
   "metadata": {},
   "outputs": [],
   "source": [
    "### Would-read: based on hw3, q4: use the baseline's approach of checking if the book is popular, or if the similar users have read the book \n",
    "#predictions = open(\"predictions_Read.csv\", 'w')\n",
    "\n",
    "#for l in open(\"pairs_Read.csv\"):\n",
    "#    if l.startswith(\"userID\"):\n",
    "        #header\n",
    "#        predictions.write(l)\n",
    "#        continue\n",
    "        \n",
    "    #get the user and the book\n",
    "#    user,book = l.strip().split(',')\n",
    "    \n",
    "    #get all books b' that a user has read\n",
    "#    other_books = [b for (b, _) in ratingsPerUser[user]]\n",
    "\n",
    "    #set of ratings for target_book\n",
    "#    targetSet = set([u for (u,_) in ratingsPerItem[book]])\n",
    "#    maxSim = 0.0\n",
    "    \n",
    "    #get the max similarity for the target_book and user's books\n",
    "#    for other in other_books:\n",
    "#        otherSet = set([u for (u,_) in ratingsPerItem[other]])\n",
    "\n",
    "#        sim = Jaccard(targetSet, otherSet)\n",
    "#        maxSim = sim if (sim > maxSim) else maxSim\n",
    "        \n",
    "        \n",
    "#    if b in popular:\n",
    "#        predictions.write(user + ',' + book + \",1\\n\")\n",
    "#    elif maxSim > 0.005:   #threshold determined from hw3\n",
    "#        predictions.write(user + ',' + book + \",1\\n\")\n",
    "#    else:\n",
    "#        predictions.write(user + ',' + book + \",0\\n\")\n",
    "\n",
    "#predictions.close()\n"
   ]
  },
  {
   "cell_type": "code",
   "execution_count": null,
   "id": "d8dc570d",
   "metadata": {},
   "outputs": [],
   "source": [
    "def predictRatingFromUserJaccard(user,item):\n",
    "    ratings = []\n",
    "    similarities = []\n",
    "    for d in reviewsPerItem[item]:\n",
    "        u2 = d['user_id']\n",
    "        if u2 == user: continue\n",
    "        ratings.append(d['rating'] - userAverages[u2])\n",
    "        similarities.append(Jaccard(itemsPerUser[user],itemsPerUser[u2]))\n",
    "    if (sum(similarities) > 0):\n",
    "        weightedRatings = [(x*y) for x,y in zip(ratings,similarities)]\n",
    "        return userAverages[user] + sum(weightedRatings) / sum(similarities)\n",
    "    else:\n",
    "        return ratingMean\n",
    "    \n",
    "for l in open(\"pairs_Read.csv\"):\n",
    "    if l.startswith(\"userID\"):\n",
    "        #header\n",
    "        predictions.write(l)\n",
    "        continue"
   ]
  },
  {
   "cell_type": "code",
   "execution_count": 10,
   "id": "918c1c3d",
   "metadata": {},
   "outputs": [],
   "source": [
    "##CATEGORIES"
   ]
  },
  {
   "cell_type": "code",
   "execution_count": 11,
   "id": "c822a578",
   "metadata": {},
   "outputs": [],
   "source": [
    "#prepare category data and count occurrences of words\n",
    "data = []\n",
    "\n",
    "for d in readGz(\"train_Category.json.gz\"):\n",
    "    data.append(d)\n",
    "    \n",
    "wordCount = defaultdict(int)\n",
    "punctuation = set(string.punctuation)\n",
    "for d in data:\n",
    "    r = ''.join([c for c in d['review_text'].lower() if not c in punctuation])\n",
    "    for w in r.split():\n",
    "        wordCount[w] += 1\n",
    "        \n",
    "counts = [(wordCount[w], w) for w in wordCount]\n",
    "counts.sort()\n",
    "counts.reverse()"
   ]
  },
  {
   "cell_type": "code",
   "execution_count": 12,
   "id": "6689a00c",
   "metadata": {},
   "outputs": [],
   "source": [
    "#get the longer words\n",
    "longerWords = [w[1] for w in counts[:1500] if len(w[1]) > 3]\n",
    "wordId = dict(zip(longerWords, range(len(longerWords))))\n",
    "wordSet = set(longerWords)"
   ]
  },
  {
   "cell_type": "code",
   "execution_count": 13,
   "id": "a284536d",
   "metadata": {},
   "outputs": [],
   "source": [
    "#method to make feature matrix, using review_text\n",
    "def feature(datum):\n",
    "    feat = [0]*len(wordSet)\n",
    "    t = datum['review_text']\n",
    "    t = t.lower() # lowercase string\n",
    "    t = [c for c in t if not (c in string.punctuation)] # non-punct characters\n",
    "    t = ''.join(t) # convert back to string\n",
    "    words = t.strip().split() # tokenizes\n",
    "    for w in words:\n",
    "        if not (w in wordSet): continue\n",
    "        feat[wordId[w]] += 1\n",
    "    feat.append(1)\n",
    "    return feat"
   ]
  },
  {
   "cell_type": "code",
   "execution_count": 14,
   "id": "cc782fdc",
   "metadata": {},
   "outputs": [],
   "source": [
    "#train the model\n",
    "X = [feature(d) for d in data]\n",
    "y = [d['genreID'] for d in data]"
   ]
  },
  {
   "cell_type": "code",
   "execution_count": 1,
   "id": "b8da2b3a",
   "metadata": {},
   "outputs": [
    {
     "ename": "NameError",
     "evalue": "name 'linear_model' is not defined",
     "output_type": "error",
     "traceback": [
      "\u001b[0;31m---------------------------------------------------------------------------\u001b[0m",
      "\u001b[0;31mNameError\u001b[0m                                 Traceback (most recent call last)",
      "Cell \u001b[0;32mIn [1], line 1\u001b[0m\n\u001b[0;32m----> 1\u001b[0m mod \u001b[38;5;241m=\u001b[39m linear_model\u001b[38;5;241m.\u001b[39mLogisticRegression()\n\u001b[1;32m      2\u001b[0m mod\u001b[38;5;241m.\u001b[39mfit(X, y)\n",
      "\u001b[0;31mNameError\u001b[0m: name 'linear_model' is not defined"
     ]
    }
   ],
   "source": [
    "mod = linear_model.LogisticRegression()\n",
    "mod.fit(X, y)"
   ]
  },
  {
   "cell_type": "code",
   "execution_count": null,
   "id": "7336dc72",
   "metadata": {},
   "outputs": [],
   "source": [
    "len(longerWords)"
   ]
  },
  {
   "cell_type": "code",
   "execution_count": null,
   "id": "7f19b5f2",
   "metadata": {},
   "outputs": [],
   "source": [
    "#get the test data for category\n",
    "testCatData = []\n",
    "for l in readGz(\"test_Category.json.gz\"):\n",
    "    testCatData.append(l)\n",
    "\n",
    "#create the test matrix and get predictions\n",
    "testX = [feature(d) for d in testCatData]\n",
    "predicted = mod.predict(testX)"
   ]
  },
  {
   "cell_type": "code",
   "execution_count": null,
   "id": "bcdac69c",
   "metadata": {},
   "outputs": [],
   "source": [
    "len(predicted)"
   ]
  },
  {
   "cell_type": "code",
   "execution_count": null,
   "id": "4993ddbf",
   "metadata": {},
   "outputs": [],
   "source": [
    "predictions = open(\"predictions_Category.csv\", 'w')\n",
    "predictions.write(\"userID,reviewID,prediction\\n\")\n",
    "for i in range(len(testCatData)):\n",
    "    predictions.write(testCatData[i]['user_id'] + ','\n",
    "                      + testCatData[i]['review_id'] + \",\"\n",
    "                      + str(predicted[i]) + \"\\n\")\n"
   ]
  },
  {
   "cell_type": "code",
   "execution_count": null,
   "id": "277ae3a3",
   "metadata": {},
   "outputs": [],
   "source": []
  }
 ],
 "metadata": {
  "kernelspec": {
   "display_name": "Python 3 (ipykernel)",
   "language": "python",
   "name": "python3"
  },
  "language_info": {
   "codemirror_mode": {
    "name": "ipython",
    "version": 3
   },
   "file_extension": ".py",
   "mimetype": "text/x-python",
   "name": "python",
   "nbconvert_exporter": "python",
   "pygments_lexer": "ipython3",
   "version": "3.9.2"
  }
 },
 "nbformat": 4,
 "nbformat_minor": 5
}
